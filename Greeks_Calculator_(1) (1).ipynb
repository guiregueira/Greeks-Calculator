{
  "nbformat": 4,
  "nbformat_minor": 0,
  "metadata": {
    "colab": {
      "name": "Greeks_Calculator_(1).ipynb",
      "provenance": []
    },
    "kernelspec": {
      "name": "python3",
      "display_name": "Python 3"
    },
    "language_info": {
      "name": "python"
    }
  },
  "cells": [
    {
      "cell_type": "markdown",
      "metadata": {
        "id": "kzMSyO3FaXWg"
      },
      "source": [
        "# Import Libraries"
      ]
    },
    {
      "cell_type": "code",
      "metadata": {
        "id": "Ir-C4bQtabp7",
        "colab": {
          "base_uri": "https://localhost:8080/"
        },
        "outputId": "6c375814-14e1-4cb9-fa56-a6154873ec85"
      },
      "source": [
        "import numpy as np\n",
        "import datetime as dt\n",
        "from datetime import date\n",
        "from datetime import datetime,timedelta\n",
        "import pandas as pd\n",
        "import pandas_datareader.data as web\n",
        "import math\n",
        "!pip install yfinance --upgrade --no-cache-dir\n",
        "import yfinance as yf\n",
        "yf.pdr_override()\n",
        "from scipy.stats import norm\n",
        "N = norm.cdf\n",
        "\n",
        "\n",
        "days_year=365"
      ],
      "execution_count": 1,
      "outputs": [
        {
          "output_type": "stream",
          "text": [
            "Collecting yfinance\n",
            "  Downloading https://files.pythonhosted.org/packages/a7/ee/315752b9ef281ba83c62aa7ec2e2074f85223da6e7e74efb4d3e11c0f510/yfinance-0.1.59.tar.gz\n",
            "Requirement already satisfied, skipping upgrade: pandas>=0.24 in /usr/local/lib/python3.7/dist-packages (from yfinance) (1.1.5)\n",
            "Requirement already satisfied, skipping upgrade: numpy>=1.15 in /usr/local/lib/python3.7/dist-packages (from yfinance) (1.19.5)\n",
            "Requirement already satisfied, skipping upgrade: requests>=2.20 in /usr/local/lib/python3.7/dist-packages (from yfinance) (2.23.0)\n",
            "Requirement already satisfied, skipping upgrade: multitasking>=0.0.7 in /usr/local/lib/python3.7/dist-packages (from yfinance) (0.0.9)\n",
            "Collecting lxml>=4.5.1\n",
            "\u001b[?25l  Downloading https://files.pythonhosted.org/packages/30/c0/d0526314971fc661b083ab135747dc68446a3022686da8c16d25fcf6ef07/lxml-4.6.3-cp37-cp37m-manylinux2014_x86_64.whl (6.3MB)\n",
            "\u001b[K     |████████████████████████████████| 6.3MB 7.8MB/s \n",
            "\u001b[?25hRequirement already satisfied, skipping upgrade: python-dateutil>=2.7.3 in /usr/local/lib/python3.7/dist-packages (from pandas>=0.24->yfinance) (2.8.1)\n",
            "Requirement already satisfied, skipping upgrade: pytz>=2017.2 in /usr/local/lib/python3.7/dist-packages (from pandas>=0.24->yfinance) (2018.9)\n",
            "Requirement already satisfied, skipping upgrade: urllib3!=1.25.0,!=1.25.1,<1.26,>=1.21.1 in /usr/local/lib/python3.7/dist-packages (from requests>=2.20->yfinance) (1.24.3)\n",
            "Requirement already satisfied, skipping upgrade: idna<3,>=2.5 in /usr/local/lib/python3.7/dist-packages (from requests>=2.20->yfinance) (2.10)\n",
            "Requirement already satisfied, skipping upgrade: chardet<4,>=3.0.2 in /usr/local/lib/python3.7/dist-packages (from requests>=2.20->yfinance) (3.0.4)\n",
            "Requirement already satisfied, skipping upgrade: certifi>=2017.4.17 in /usr/local/lib/python3.7/dist-packages (from requests>=2.20->yfinance) (2020.12.5)\n",
            "Requirement already satisfied, skipping upgrade: six>=1.5 in /usr/local/lib/python3.7/dist-packages (from python-dateutil>=2.7.3->pandas>=0.24->yfinance) (1.15.0)\n",
            "Building wheels for collected packages: yfinance\n",
            "  Building wheel for yfinance (setup.py) ... \u001b[?25l\u001b[?25hdone\n",
            "  Created wheel for yfinance: filename=yfinance-0.1.59-py2.py3-none-any.whl size=23442 sha256=d2449200f11cb83e67e0f82043c3ec4649f1c5e0489d1d301f1d50a319a7a7d8\n",
            "  Stored in directory: /tmp/pip-ephem-wheel-cache-eua55d00/wheels/f8/2a/0f/4b5a86e1d52e451757eb6bc17fd899629f0925c777741b6d04\n",
            "Successfully built yfinance\n",
            "Installing collected packages: lxml, yfinance\n",
            "  Found existing installation: lxml 4.2.6\n",
            "    Uninstalling lxml-4.2.6:\n",
            "      Successfully uninstalled lxml-4.2.6\n",
            "Successfully installed lxml-4.6.3 yfinance-0.1.59\n"
          ],
          "name": "stdout"
        }
      ]
    },
    {
      "cell_type": "markdown",
      "metadata": {
        "id": "o8yGPMTMdm7z"
      },
      "source": [
        "# Getting The Option Information"
      ]
    },
    {
      "cell_type": "code",
      "metadata": {
        "colab": {
          "base_uri": "https://localhost:8080/"
        },
        "id": "GyKaondDCSWd",
        "outputId": "af2694f4-38e3-4c71-f3a4-22aeed25afad"
      },
      "source": [
        "alfabeto=[\"A\",\"B\",\"C\",\"D\",\"E\",\"F\",\"G\",\"H\",\"I\",\"J\",\"K\",\"L\",\"M\",\"N\",\"O\",\"P\",\"Q\",'R',\"S\",\"T\",\"U\",\"V\",\"W\",\"X\",\"Y\",\"Z\"]\n",
        "delta, vega,theta,gamma,rho,episilon,zomma,charm,veta,vanna,volta=0,0,0,0,0,0,0,0,0,0,0\n",
        "code_list=[]\n",
        "quantidade_list=[]\n",
        "custo=[]\n",
        "while True:\n",
        "  code=str(input(\"Code: \"))\n",
        "  if code==\"-\":\n",
        "    break\n",
        "  quantidade=float(input(\"Quantity: \"))\n",
        "  print(\"-=\"*20)\n",
        "  code_list.append(code)\n",
        "  quantidade_list.append(quantidade)\n",
        "code=code_list[0]\n",
        "def information (code):\n",
        "  contador=0\n",
        "  while True:\n",
        "    if code[contador] not in alfabeto:\n",
        "      ticker=code[:contador]\n",
        "      break\n",
        "    contador+=1\n",
        "  expiration_year=int(\"20\"+code[contador:contador+2])\n",
        "  expiration_month=int(code[contador+2:contador+4])\n",
        "  expiration_day=int(code[contador+4:contador+6])\n",
        "  today = date.today()\n",
        "  expiration=date(expiration_year,expiration_month,expiration_day)\n",
        "  DTE=expiration-today\n",
        "  T=(DTE.days)/days_year  \n",
        "  tipo=code[contador+6]\n",
        "  S=code[contador+7:contador+14]\n",
        "  # pegando valores do mercado\n",
        "  ticker = yf.Ticker(ticker)\n",
        "  todays_data = ticker.history(period='1d')\n",
        "  code=yf.Ticker(code)\n",
        "  price_option=(code.history(period=\"2d\"))[\"Close\"][0]\n",
        "  custo.append(price_option*-quantidade)\n",
        "  return ticker,tipo,S,T,todays_data[\"Close\"][0],price_option\n",
        "# setando os paramêtros da opção 1\n",
        "ticker=information(code)[0]\n",
        "tipo=information(code)[1]\n",
        "K=float(information(code)[2])/100\n",
        "T=information(code)[3]\n",
        "S=information(code)[4]\n",
        "price_option=information(code)[5]\n",
        "quantidade=quantidade_list[0]\n",
        "\n",
        "\n",
        "\n",
        "# exemplos de codigos\n",
        "#AMZN210604C03200000\n",
        "#AMZN210604C03215000"
      ],
      "execution_count": 2,
      "outputs": [
        {
          "output_type": "stream",
          "text": [
            "Code: AMZN210604C03200000\n",
            "Quantity: 1\n",
            "-=-=-=-=-=-=-=-=-=-=-=-=-=-=-=-=-=-=-=-=\n",
            "Code: AMZN210604C03215000\n",
            "Quantity: -1\n",
            "-=-=-=-=-=-=-=-=-=-=-=-=-=-=-=-=-=-=-=-=\n",
            "Code: -\n"
          ],
          "name": "stdout"
        }
      ]
    },
    {
      "cell_type": "markdown",
      "metadata": {
        "id": "WkbHlNHyQkTC"
      },
      "source": [
        "# Setting Risk Free Rate & Dividends"
      ]
    },
    {
      "cell_type": "code",
      "metadata": {
        "id": "3Q6HBrwjQpwN"
      },
      "source": [
        "r=0.02\n",
        "q=0.0"
      ],
      "execution_count": 3,
      "outputs": []
    },
    {
      "cell_type": "markdown",
      "metadata": {
        "id": "p_6Zu0b-R0Tt"
      },
      "source": [
        "# Black Scholes Formula"
      ]
    },
    {
      "cell_type": "code",
      "metadata": {
        "id": "NnVd3WrfSqBq"
      },
      "source": [
        "def d1_func(S,K,r,q,sigma,T):\n",
        "  d1=(np.log(S/K)+(r-q+sigma**2/2)*T)/(sigma*math.sqrt(T))\n",
        "  return d1\n",
        "def d2_func(S,K,r,q,sigma,T):\n",
        "   d1=(np.log(S/K)+(r-q+sigma**2/2)*T)/(sigma*math.sqrt(T))\n",
        "   d2=d1-sigma*math.sqrt(T)\n",
        "   return d2\n",
        "def black_scholes_call(S,K,r,q,sigma,T):\n",
        "  d1=d1_func(S,K,r,q,sigma,T)\n",
        "  d2=d2_func(S,K,r,q,sigma,T)\n",
        "  price=S*math.exp(-q*T)*N(d1)-math.exp(-r*T)*K*N(d2)\n",
        "  return price\n",
        "def black_scholes_put(S,K,r,q,sigma,T):\n",
        "    d1=d1_func(S,K,r,q,sigma,T)\n",
        "    d2=d2_func(S,K,r,q,sigma,T)\n",
        "    price=math.exp(-r*T)*K*N(-d2)-S*math.exp(-q*T)*N(-d1)\n",
        "    return price\n",
        "\n",
        "def phi_d1_func(d1):\n",
        "  d1=d1_func(S,K,r,q,sigma,T)\n",
        "  phid1=(math.exp((-d1**2)/2)/math.sqrt(2*math.pi))\n",
        "  return phid1\n",
        "def phi_d2_func(d2):\n",
        "  d2=d2_func(S,K,r,q,sigma,T)\n",
        "  phid2=math.exp((-d2**2)/2)/math.sqrt(2*math.pi)\n",
        "  return phid2"
      ],
      "execution_count": 4,
      "outputs": []
    },
    {
      "cell_type": "markdown",
      "metadata": {
        "id": "aHQDbInMOFbf"
      },
      "source": [
        "# Calculating the Implied Volatility"
      ]
    },
    {
      "cell_type": "code",
      "metadata": {
        "id": "guOGcXymPJSh"
      },
      "source": [
        "def IV(price_option,S,K,T,r):\n",
        "  precision=0.00001\n",
        "  upper_vol=50.0\n",
        "  max_vol=50.0\n",
        "  min_vol=0.0001\n",
        "  lower_vol=0.0001\n",
        "  iteration=0\n",
        "  while 1:\n",
        "    iteration+=1\n",
        "    mid_vol=(upper_vol+lower_vol)/2.0\n",
        "    if tipo==\"C\":\n",
        "      preco=black_scholes_call(S,K,r,q,mid_vol,T)\n",
        "      lower_price=black_scholes_call(S,K,r,q,lower_vol,T)\n",
        "      if (lower_price-price_option)*(preco-price_option)>0:\n",
        "        lower_vol=mid_vol\n",
        "      else:\n",
        "        upper_vol=mid_vol\n",
        "      if abs(preco-price_option)<precision:break\n",
        "      if mid_vol>max_vol-5:\n",
        "        mid_vol-0.0001\n",
        "        break\n",
        "    elif tipo==\"P\":\n",
        "      preco=black_scholes_put(S,K,r,q,mid_vol,T)\n",
        "      upper_price=black_scholes_put(S,K,r,q,upper_vol,T)\n",
        "      if (upper_price-price_option)*(preco-price_option)>0:\n",
        "        upper_vol=mid_vol\n",
        "      else:\n",
        "        lower_vol=mid_vol\n",
        "      if abs(preco-price_option)<precision:break\n",
        "      if iteration>100:break\n",
        "  return mid_vol\n",
        "sigma=IV(price_option,S,K,T,r)\n",
        "\n",
        "\n",
        "\n",
        "\n",
        "\n"
      ],
      "execution_count": 5,
      "outputs": []
    },
    {
      "cell_type": "markdown",
      "metadata": {
        "id": "ai3jS3ikJ3zf"
      },
      "source": [
        "# 1° Order Greeks"
      ]
    },
    {
      "cell_type": "code",
      "metadata": {
        "id": "_48HpeUhKH9o"
      },
      "source": [
        "def delta_func(S,K,r,q,sigma,T,tipo,quantidade):\n",
        "  d1=d1_func(S,K,r,q,sigma,T)\n",
        "  if tipo==\"C\":\n",
        "    delta=math.exp(-q*T)*N(d1)*quantidade\n",
        "  if tipo==\"P\":\n",
        "    delta=-math.exp(-q*T)*N(-d1)*quantidade\n",
        "  return delta\n",
        "#-=-=-=-=-=-=-=-=-=-=-=-=-=-=-=-=\n",
        "def vega_func(S,K,r,q,sigma,T,tipo,quantidade):\n",
        "  d1=d1_func(S,K,r,q,sigma,T)\n",
        "  d2=d2_func(S,K,r,q,sigma,T)\n",
        "  phid1=phi_d1_func(d1)\n",
        "  vega=S*math.exp(-q*T)*phid1*math.sqrt(T)/100*quantidade\n",
        "  return vega\n",
        "#-=-=-=-=-=-=-=-=-=-=-=-=-=-=-=-=-=-=-=\n",
        "def theta_func(S,K,r,q,sigma,T,tipo,days_year,quantidade):\n",
        "  d1=d1_func(S,K,r,q,sigma,T)\n",
        "  d2=d2_func(S,K,r,q,sigma,T)\n",
        "  phid1=phi_d1_func(d1)\n",
        "  if tipo==\"C\":\n",
        "    theta=((-math.exp(-q*T)*((S*phid1*sigma)/(2*math.sqrt(T)))-r*K*math.exp(-r*T)*N(d2)+q*S*math.exp(-q*T)*N(d1))/days_year)*quantidade\n",
        "  if tipo ==\"P\":\n",
        "    theta=((-math.exp(-q*T)*((S*phid1*sigma)/(2*math.sqrt(T)))+r*K*math.exp(-r*T)*N(-d2)-q*S*math.exp(-q*T)*N(-d1))/days_year)*quantidade\n",
        "  return theta\n",
        "#-=-=-=-=-=-=-=-=-=-=-=-=-=-=-=-=-=-=-=\n",
        "def rho_func(S,K,r,q,sigma,T,tipo,quantidade):\n",
        "  d2=d2_func(S,K,r,q,sigma,T)\n",
        "  if tipo==\"C\":\n",
        "    rho=(K*T*math.exp(-r*T)*N(d2)/100)*quantidade\n",
        "  if tipo==\"P\":\n",
        "    rho=(-K*T*math.exp(-r*T)*N(-d2)/100)*quantidade\n",
        "  return rho\n",
        "#-=-=-=-=-=-=-=-=-=-=-=-=-=-=-=-=-=-=-=\n",
        "def episilon_func(S,K,r,q,sigma,T,tipo,quantidade): # Percentage change in option value per percentage change in the underlying dividend yield\n",
        "  d1=d1_func(S,K,r,q,sigma,T)\n",
        "  d2=d2_func(S,K,r,q,sigma,T)\n",
        "  if tipo==\"C\":\n",
        "    episilon=(-S*T*math.exp(-q*T)*N(d2)/100)*quantidade\n",
        "  if tipo ==\"P\":\n",
        "    episilon=(S*T*math.exp(-q*T)*N(-d1)/100)*quantidade\n",
        "  return episilon\n",
        "#-=-=-=-=-=-=-=-=-=-=-=-=-=-=-=-=-=-=-=\n",
        "# Lambda greek :(\n",
        "\n",
        "delta=delta_func(S,K,r,q,sigma,T,tipo,quantidade)\n",
        "vega=vega_func(S,K,r,q,sigma,T,tipo,quantidade)\n",
        "theta=theta_func(S,K,r,q,sigma,T,tipo,days_year,quantidade)\n",
        "rho=rho_func(S,K,r,q,sigma,T,tipo,quantidade)\n",
        "episilon=episilon_func(S,K,r,q,sigma,T,tipo,quantidade)\n",
        "\n",
        "\n",
        "\n"
      ],
      "execution_count": 6,
      "outputs": []
    },
    {
      "cell_type": "markdown",
      "metadata": {
        "id": "Oj6Z3pmR9PD6"
      },
      "source": [
        "# 2° Order Greeks"
      ]
    },
    {
      "cell_type": "code",
      "metadata": {
        "id": "kNWtmPwx9Viw"
      },
      "source": [
        "def gamma_func(S,K,r,q,sigma,T,tipo,quantidade):\n",
        "  d1=d1_func(S,K,r,q,sigma,T)\n",
        "  d2=d2_func(S,K,r,q,sigma,T)\n",
        "  phid2=phi_d2_func(d2)\n",
        "  gamma=K*math.exp(-r*T)*((phid2)/(S**2*sigma*math.sqrt(T)))*quantidade\n",
        "  return gamma\n",
        "#-=-=-=-=-=-=-=-=-=-=-=-=-=-=-=-=-=-=-=\n",
        "def vanna_func(S,K,r,q,sigma,T,tipo,quantidade): # Dvega/Dspot  --> mathematically equivalent to Ddelta/Dvol , helps to make a effective delta hedge as volatility changes or the effectivness of a vega hedge against change in Spot Price\n",
        "  d1=d1_func(S,K,r,q,sigma,T)\n",
        "  d2=d2_func(S,K,r,q,sigma,T)\n",
        "  phid1=phi_d1_func(d1)\n",
        "  vanna=(-math.exp(-q*T)*phid1*(d2/sigma))*quantidade\n",
        "  return vanna\n",
        "#-=-=-=-=-=-=-=-=-=-=-=-=-=-=-=-=-=-=-=\n",
        "def charm_func(S,K,r,q,sigma,T,tipo,days_year,quantidade):# Rate of change of delta in time --> Ddelta/Dtime is an important indicator in a delta-hedging, divide per number of days to find delta decay per day, near to expiration charm changes quickly becoming innacurate\n",
        "  d1=d1_func(S,K,r,q,sigma,T)\n",
        "  d2=d2_func(S,K,r,q,sigma,T)\n",
        "  phid1=phi_d1_func(d1)\n",
        "  if tipo==\"C\":\n",
        "    charm=((q*math.exp(-q*T)*N(d1)-math.exp(-q*T)*phid1*((2*(r-q)*T-d2*sigma*math.sqrt(T))/(2*T*sigma*math.sqrt(T))))/days_year)*quantidade\n",
        "  if tipo==\"P\":\n",
        "    charm=((-q*math.exp(-q*T)*N(-d1)-math.exp(-q*T)*phid1*((2*(r-q)*T-d2*sigma*math.sqrt(T))/(2*T*sigma*math.sqrt(T))))/days_year)*quantidade\n",
        "  return charm\n",
        "#-=-=-=-=-=-=-=-=-=-=-=-=-=-=-=-=-=-=-=-=\n",
        "def vomma_func(S,K,r,q,sigma,T,tipo,quantidade):# vega convexity, the rate of change in vega with respect to volatility, positive vomma indicates that you are long vega and negative vomma you are short vega, if you have a position like neutral vega you need to understand vomma to analise what happens in vega if the iv changes, positive for away from the money\n",
        "  # rate of change\n",
        "  d1=d1_func(S,K,r,q,sigma,T)\n",
        "  d2=d2_func(S,K,r,q,sigma,T)\n",
        "  vomma=((vega_func(S,K,r,q,sigma,T,tipo,quantidade)*(d1*d2/sigma)))*quantidade\n",
        "  return vomma\n",
        "#-=-=-=-=-=-=-=-=-=-=-=-=-=-=-=-=-=-=-=-=-=\n",
        "def veta_func(S,K,r,q,sigma,T,tipo,quantidade):# rate of change in vega by passage of time\n",
        "  d1=d1_func(S,K,r,q,sigma,T)\n",
        "  d2=d2_func(S,K,r,q,sigma,T)\n",
        "  phid1=phi_d1_func(d1)\n",
        "  veta=(-S*math.exp(-q*T)*phid1*math.sqrt(T)*(q+((r-q)*d1)/(sigma*math.sqrt(T))-((1+d1*d2)/(2*T)))/((days_year)*100))*quantidade\n",
        "  return veta\n",
        "#-=-=-=-=-=-=-=-=-=-=-=-=-=-=-=-=-=-=-=-=-=\n",
        "\n",
        "\n",
        "gamma=gamma_func(S,K,r,q,sigma,T,tipo,quantidade)\n",
        "vanna=vanna_func(S,K,r,q,sigma,T,tipo,quantidade)\n",
        "charm=charm_func(S,K,r,q,sigma,T,tipo,days_year,quantidade)# percentage\n",
        "vomma=vomma_func(S,K,r,q,sigma,T,tipo,quantidade)# percentage\n",
        "veta= veta_func(S,K,r,q,sigma,T,tipo,quantidade)# Percentage\n",
        "# dividir pela soma das quantidades nas gregas de porcentagem"
      ],
      "execution_count": 7,
      "outputs": []
    },
    {
      "cell_type": "markdown",
      "metadata": {
        "id": "kqmNp_TsoGS3"
      },
      "source": [
        "# 3° Order Greeks"
      ]
    },
    {
      "cell_type": "code",
      "metadata": {
        "id": "zgYJlYiRoKQA"
      },
      "source": [
        "def speed_func(S,K,r,q,sigma,T,tipo,quantidade):# Change in Gamma with respect to Spot Price, important to delta hedging or gamma-hedging\n",
        "  d1=d1_func(S,K,r,q,sigma,T)\n",
        "  d2=d2_func(S,K,r,q,sigma,T)\n",
        "  phid1=phi_d1_func(d1)\n",
        "  speed=(-math.exp(-q*T)*(phid1/(S**2*sigma*math.sqrt(T)))*(d1/(sigma*math.sqrt(T))+1)*quantidade)\n",
        "  return speed\n",
        "#-=-=-=-=-=-=-=-=-=-=-=-=-=-=-=-=-=-=-=-=-=-=-=\n",
        "def zomma_func(S,K,r,q,sigma,T,tipo,quantidade):# rate of change of gamma with respect to volatility, gamma-hedging helps to antecipate hedge positions as volatility changes\n",
        "  d1=d1_func(S,K,r,q,sigma,T)\n",
        "  d2=d2_func(S,K,r,q,sigma,T)\n",
        "  phid1=phi_d1_func(d1)\n",
        "  zomma=math.exp(-q*T)*((phid1*(d1*d2-1)/(S*sigma**2*math.sqrt(T))))*quantidade\n",
        "  return zomma\n",
        "#-=-=-=-=-=-=-=-=-=-=-=-=-=-=-=-=-=-=-=-=-=-=-=\n",
        "def color_func(S,K,r,q,sigma,T,tipo,quantidade):# rate of change in gamma with respect of passage of time, gamma hedge is expressed by gamma per year so we divide by number of days\n",
        "  d1=d1_func(S,K,r,q,sigma,T)\n",
        "  d2=d2_func(S,K,r,q,sigma,T)\n",
        "  phid1=phi_d1_func(d1)\n",
        "  color=((-math.exp(-q*T)*((phid1)/(2*S*T*sigma*math.sqrt(T)))*(2*q*T+1+((2*(r-q)*T-d2*sigma*math.sqrt(T)))/sigma*math.sqrt(T)*d1))/days_year)*quantidade\n",
        "  return color\n",
        "#-=-=-=-=-=-=-=-=-=-=-=-=-=-=-=-=-=-=-=-=-=-=-=\n",
        "def ultima_func(S,K,r,q,sigma,T,tipo,quantidade):# Sensivity to vomma with respect to volatility\n",
        "  d1=d1_func(S,K,r,q,sigma,T)\n",
        "  d2=d2_func(S,K,r,q,sigma,T)\n",
        "  vega=vega_func(S,K,r,q,sigma,T,tipo,quantidade)\n",
        "  ultima=(-vega/sigma**2)*(d1*d2*(1-d1*d2)+d1**2+d2**2)*quantidade\n",
        "  return ultima\n",
        "#-=-=-=-=-=-=-=-=-=-=-=-=-=-=-=-=-=-=-=-=-=-=-=\n",
        "def dual_delta_func(S,K,r,q,sigma,T,tipo,quantidade):\n",
        "  d1=d1_func(S,K,r,q,sigma,T)\n",
        "  d2=d2_func(S,K,r,q,sigma,T)\n",
        "  if tipo==\"C\":\n",
        "    dual_delta=(-math.exp(-r*T)*N(d2))*quantidade\n",
        "  if tipo==\"P\":\n",
        "    dual_delta=(math.exp(-r*T)*N(-d2))*quantidade\n",
        "  return dual_delta\n",
        "#-=-=-=-=-=-=-=-=-=-=-=-=-=-=-=-=-=-=-=-=-=-=-=\n",
        "def dual_gamma_func(S,K,r,q,sigma,T,tipo,quantidade):\n",
        "  d1=d1_func(S,K,r,q,sigma,T)\n",
        "  d2=d2_func(S,K,r,q,sigma,T)\n",
        "  phid2=phi_d2_func(d2)\n",
        "  dual_gamma=math.exp(-r*T)*(phid2/(K*sigma*math.sqrt(T)))*quantidade\n",
        "  return dual_gamma\n",
        "#-=-=-=-=-=-=-=-=-=-=-=-=-=-=-=-=-=-=-=-=-=-=-=\n",
        "\n",
        "\n",
        "\n",
        "\n",
        "speed=speed_func(S,K,r,q,sigma,T,tipo,quantidade)\n",
        "zomma=zomma_func(S,K,r,q,sigma,T,tipo,quantidade)\n",
        "color=color_func(S,K,r,q,sigma,T,tipo,quantidade)\n",
        "ultima=ultima_func(S,K,r,q,sigma,T,tipo,quantidade)\n",
        "dual_delta=dual_delta_func(S,K,r,q,sigma,T,tipo,quantidade)\n",
        "dual_gamma=dual_gamma_func(S,K,r,q,sigma,T,tipo,quantidade)\n",
        "\n",
        "\n"
      ],
      "execution_count": 8,
      "outputs": []
    },
    {
      "cell_type": "markdown",
      "metadata": {
        "id": "xMYiOLY_OadX"
      },
      "source": [
        "# Computing others options"
      ]
    },
    {
      "cell_type": "code",
      "metadata": {
        "id": "a16_EICXOfT-",
        "colab": {
          "base_uri": "https://localhost:8080/"
        },
        "outputId": "6394f3a4-8334-4dc2-86f8-cb07693ba13b"
      },
      "source": [
        "if len(code_list)>1:\n",
        "  for a in range(len(code_list)-1):\n",
        "    print(code_list[a+1])\n",
        "    code=code_list[a+1]\n",
        "    # setando as informações\n",
        "    ticker=information(code)[0]\n",
        "    tipo=information(code)[1]\n",
        "    K=float(information(code)[2])/100\n",
        "    T=information(code)[3]\n",
        "    S=information(code)[4]\n",
        "    price_option=information(code)[5]\n",
        "    quantidade=quantidade_list[a+1]\n",
        "    # chamando as funções\n",
        "    delta+=delta_func(S,K,r,q,sigma,T,tipo,quantidade)\n",
        "    rho+=rho_func(S,K,r,q,sigma,T,tipo,quantidade)\n",
        "    theta+=theta_func(S,K,r,q,sigma,T,tipo,days_year,quantidade)\n",
        "    vega+=vega_func(S,K,r,q,sigma,T,tipo,quantidade)\n",
        "    gamma+=gamma_func(S,K,r,q,sigma,T,tipo,quantidade)\n",
        "    vanna+=vanna_func(S,K,r,q,sigma,T,tipo,quantidade)\n",
        "    charm+=charm_func(S,K,r,q,sigma,T,tipo,days_year,quantidade)# percentage\n",
        "    vomma+=vomma_func(S,K,r,q,sigma,T,tipo,quantidade)# percentage\n",
        "    veta+=veta_func(S,K,r,q,sigma,T,tipo,quantidade)# Percentage\n",
        "    speed+=speed_func(S,K,r,q,sigma,T,tipo,quantidade)\n",
        "    zomma+=zomma_func(S,K,r,q,sigma,T,tipo,quantidade)\n",
        "    color+=color_func(S,K,r,q,sigma,T,tipo,quantidade)\n",
        "    ultima+=ultima_func(S,K,r,q,sigma,T,tipo,quantidade)\n",
        "    dual_delta+=dual_delta_func(S,K,r,q,sigma,T,tipo,quantidade)\n",
        "    dual_gamma+=dual_gamma_func(S,K,r,q,sigma,T,tipo,quantidade)\n",
        "    episilon+=episilon_func(S,K,r,q,sigma,T,tipo,quantidade)\n"
      ],
      "execution_count": 9,
      "outputs": [
        {
          "output_type": "stream",
          "text": [
            "AMZN210604C03215000\n"
          ],
          "name": "stdout"
        }
      ]
    },
    {
      "cell_type": "markdown",
      "metadata": {
        "id": "wdF2mYHs4I5x"
      },
      "source": [
        "# Output the Greeks"
      ]
    },
    {
      "cell_type": "code",
      "metadata": {
        "id": "4F_ZT93s4NJA",
        "colab": {
          "base_uri": "https://localhost:8080/"
        },
        "outputId": "0a7cff96-47f8-4eeb-ef49-860e7537e1b0"
      },
      "source": [
        "quantidade_total=0\n",
        "custo_total=0\n",
        "for a in range(len(quantidade_list)):\n",
        "  quantidade_total+=quantidade_list[a]\n",
        "for b in range(len(custo)):\n",
        "  custo_total+=custo[b]\n",
        "print(f\"Custo Total {custo_total.round(2)}$\")\n",
        "print(\"-=\"*20)\n",
        "print(\"First Order Greeks\")\n",
        "print(f\"Delta: {delta.round(3)} $/ΔSpot\")\n",
        "print(f\"Theta: {theta.round(3)} $/ΔTime\")\n",
        "print(f\"Vega: {vega.round(3)} $/ΔVolatility\")\n",
        "print(f\"Rho: {rho.round(3)} $/ΔRisk Free rate\")\n",
        "print(f\"Episilon: {(episilon).round(3)} $/ΔRisk Free rate\")\n",
        "print(\"-=\"*20)\n",
        "print(\"Second Order Greeks\")\n",
        "print(f\"Gamma: {(gamma).round(3)} ΔDelta/ΔSpot\")\n",
        "print(f\"Charm: {(charm).round(3)} ΔDelta/ΔTime\")\n",
        "print(f\"Vomma: {(vomma).round(3)} ΔVega/ΔVolatility\")\n",
        "print(f\"Vanna: {vanna.round(3)} ΔVega/ΔSpot\")\n",
        "print(f\"Veta: {(veta).round(3)} ΔVega/ΔTime\")\n",
        "print(\"-=\"*20)\n",
        "print(\"Third Order Greeks\")\n",
        "print(f\"Speed: {(speed).round(4)} ΔGamma/ΔSpot\")\n",
        "print(f\"Zomma: {(zomma).round(4)} ΔGamma/ΔVolatility\")\n",
        "print(f\"Color: {(color).round(4)} ΔGamma/ΔTime\")\n",
        "print(f\"Ultima: {ultima.round(2)} ΔVomma/ΔVolatility\")"
      ],
      "execution_count": 10,
      "outputs": [
        {
          "output_type": "stream",
          "text": [
            "Custo Total 59.46$\n",
            "-=-=-=-=-=-=-=-=-=-=-=-=-=-=-=-=-=-=-=-=\n",
            "First Order Greeks\n",
            "Delta: 0.074 $/ΔSpot\n",
            "Theta: 0.146 $/ΔTime\n",
            "Vega: -0.054 $/ΔVolatility\n",
            "Rho: 0.025 $/ΔRisk Free rate\n",
            "Episilon: -0.026 $/ΔRisk Free rate\n",
            "-=-=-=-=-=-=-=-=-=-=-=-=-=-=-=-=-=-=-=-=\n",
            "Second Order Greeks\n",
            "Gamma: -0.0 ΔDelta/ΔSpot\n",
            "Charm: 0.009 ΔDelta/ΔTime\n",
            "Vomma: 0.552 ΔVega/ΔVolatility\n",
            "Vanna: -0.297 ΔVega/ΔSpot\n",
            "Veta: 0.005 ΔVega/ΔTime\n",
            "-=-=-=-=-=-=-=-=-=-=-=-=-=-=-=-=-=-=-=-=\n",
            "Third Order Greeks\n",
            "Speed: -0.0 ΔGamma/ΔSpot\n",
            "Zomma: 0.0024 ΔGamma/ΔVolatility\n",
            "Color: 0.0 ΔGamma/ΔTime\n",
            "Ultima: -6.85 ΔVomma/ΔVolatility\n"
          ],
          "name": "stdout"
        }
      ]
    }
  ]
}